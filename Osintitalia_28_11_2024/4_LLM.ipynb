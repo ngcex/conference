{
  "nbformat": 4,
  "nbformat_minor": 0,
  "metadata": {
    "colab": {
      "provenance": []
    },
    "kernelspec": {
      "name": "python3",
      "display_name": "Python 3"
    },
    "language_info": {
      "name": "python"
    }
  },
  "cells": [
    {
      "cell_type": "markdown",
      "source": [
        "# zero-shot learning\n",
        "\n",
        "tecnica potente che permette a un modello di intelligenza artificiale di svolgere compiti senza essere stato specificamente addestrato su quei compiti o su quei dati, sfruttando la capacità di generalizzare."
      ],
      "metadata": {
        "id": "k6u_wMC-MW5K"
      }
    },
    {
      "cell_type": "code",
      "execution_count": null,
      "metadata": {
        "id": "YqYhxF-WCGjE"
      },
      "outputs": [],
      "source": [
        "# zero shot\n",
        "# few shot\n",
        "\n",
        "# knowledge extraction\n",
        "\n",
        "# prima scrivere un articolo breve sulla comunicazione twitter isis"
      ]
    },
    {
      "cell_type": "code",
      "source": [
        "!pip install together"
      ],
      "metadata": {
        "colab": {
          "base_uri": "https://localhost:8080/",
          "height": 915
        },
        "id": "34MgHCKzLKio",
        "outputId": "729ac8a2-65bb-43d5-b5ca-573fe21a4693"
      },
      "execution_count": null,
      "outputs": [
        {
          "output_type": "stream",
          "name": "stdout",
          "text": [
            "Collecting together\n",
            "  Downloading together-1.3.5-py3-none-any.whl.metadata (11 kB)\n",
            "Requirement already satisfied: aiohttp<4.0.0,>=3.9.3 in /usr/local/lib/python3.10/dist-packages (from together) (3.11.2)\n",
            "Requirement already satisfied: click<9.0.0,>=8.1.7 in /usr/local/lib/python3.10/dist-packages (from together) (8.1.7)\n",
            "Requirement already satisfied: eval-type-backport<0.3.0,>=0.1.3 in /usr/local/lib/python3.10/dist-packages (from together) (0.2.0)\n",
            "Requirement already satisfied: filelock<4.0.0,>=3.13.1 in /usr/local/lib/python3.10/dist-packages (from together) (3.16.1)\n",
            "Requirement already satisfied: numpy>=1.23.5 in /usr/local/lib/python3.10/dist-packages (from together) (1.26.4)\n",
            "Collecting pillow<11.0.0,>=10.3.0 (from together)\n",
            "  Downloading pillow-10.4.0-cp310-cp310-manylinux_2_28_x86_64.whl.metadata (9.2 kB)\n",
            "Requirement already satisfied: pyarrow>=10.0.1 in /usr/local/lib/python3.10/dist-packages (from together) (17.0.0)\n",
            "Requirement already satisfied: pydantic<3.0.0,>=2.6.3 in /usr/local/lib/python3.10/dist-packages (from together) (2.9.2)\n",
            "Requirement already satisfied: requests<3.0.0,>=2.31.0 in /usr/local/lib/python3.10/dist-packages (from together) (2.32.3)\n",
            "Requirement already satisfied: rich<14.0.0,>=13.8.1 in /usr/local/lib/python3.10/dist-packages (from together) (13.9.4)\n",
            "Requirement already satisfied: tabulate<0.10.0,>=0.9.0 in /usr/local/lib/python3.10/dist-packages (from together) (0.9.0)\n",
            "Requirement already satisfied: tqdm<5.0.0,>=4.66.2 in /usr/local/lib/python3.10/dist-packages (from together) (4.66.6)\n",
            "Requirement already satisfied: typer<0.14,>=0.9 in /usr/local/lib/python3.10/dist-packages (from together) (0.13.0)\n",
            "Requirement already satisfied: aiohappyeyeballs>=2.3.0 in /usr/local/lib/python3.10/dist-packages (from aiohttp<4.0.0,>=3.9.3->together) (2.4.3)\n",
            "Requirement already satisfied: aiosignal>=1.1.2 in /usr/local/lib/python3.10/dist-packages (from aiohttp<4.0.0,>=3.9.3->together) (1.3.1)\n",
            "Requirement already satisfied: attrs>=17.3.0 in /usr/local/lib/python3.10/dist-packages (from aiohttp<4.0.0,>=3.9.3->together) (24.2.0)\n",
            "Requirement already satisfied: frozenlist>=1.1.1 in /usr/local/lib/python3.10/dist-packages (from aiohttp<4.0.0,>=3.9.3->together) (1.5.0)\n",
            "Requirement already satisfied: multidict<7.0,>=4.5 in /usr/local/lib/python3.10/dist-packages (from aiohttp<4.0.0,>=3.9.3->together) (6.1.0)\n",
            "Requirement already satisfied: propcache>=0.2.0 in /usr/local/lib/python3.10/dist-packages (from aiohttp<4.0.0,>=3.9.3->together) (0.2.0)\n",
            "Requirement already satisfied: yarl<2.0,>=1.17.0 in /usr/local/lib/python3.10/dist-packages (from aiohttp<4.0.0,>=3.9.3->together) (1.17.2)\n",
            "Requirement already satisfied: async-timeout<6.0,>=4.0 in /usr/local/lib/python3.10/dist-packages (from aiohttp<4.0.0,>=3.9.3->together) (4.0.3)\n",
            "Requirement already satisfied: annotated-types>=0.6.0 in /usr/local/lib/python3.10/dist-packages (from pydantic<3.0.0,>=2.6.3->together) (0.7.0)\n",
            "Requirement already satisfied: pydantic-core==2.23.4 in /usr/local/lib/python3.10/dist-packages (from pydantic<3.0.0,>=2.6.3->together) (2.23.4)\n",
            "Requirement already satisfied: typing-extensions>=4.6.1 in /usr/local/lib/python3.10/dist-packages (from pydantic<3.0.0,>=2.6.3->together) (4.12.2)\n",
            "Requirement already satisfied: charset-normalizer<4,>=2 in /usr/local/lib/python3.10/dist-packages (from requests<3.0.0,>=2.31.0->together) (3.4.0)\n",
            "Requirement already satisfied: idna<4,>=2.5 in /usr/local/lib/python3.10/dist-packages (from requests<3.0.0,>=2.31.0->together) (3.10)\n",
            "Requirement already satisfied: urllib3<3,>=1.21.1 in /usr/local/lib/python3.10/dist-packages (from requests<3.0.0,>=2.31.0->together) (2.2.3)\n",
            "Requirement already satisfied: certifi>=2017.4.17 in /usr/local/lib/python3.10/dist-packages (from requests<3.0.0,>=2.31.0->together) (2024.8.30)\n",
            "Requirement already satisfied: markdown-it-py>=2.2.0 in /usr/local/lib/python3.10/dist-packages (from rich<14.0.0,>=13.8.1->together) (3.0.0)\n",
            "Requirement already satisfied: pygments<3.0.0,>=2.13.0 in /usr/local/lib/python3.10/dist-packages (from rich<14.0.0,>=13.8.1->together) (2.18.0)\n",
            "Requirement already satisfied: shellingham>=1.3.0 in /usr/local/lib/python3.10/dist-packages (from typer<0.14,>=0.9->together) (1.5.4)\n",
            "Requirement already satisfied: mdurl~=0.1 in /usr/local/lib/python3.10/dist-packages (from markdown-it-py>=2.2.0->rich<14.0.0,>=13.8.1->together) (0.1.2)\n",
            "Downloading together-1.3.5-py3-none-any.whl (70 kB)\n",
            "\u001b[2K   \u001b[90m━━━━━━━━━━━━━━━━━━━━━━━━━━━━━━━━━━━━━━━━\u001b[0m \u001b[32m70.3/70.3 kB\u001b[0m \u001b[31m2.8 MB/s\u001b[0m eta \u001b[36m0:00:00\u001b[0m\n",
            "\u001b[?25hDownloading pillow-10.4.0-cp310-cp310-manylinux_2_28_x86_64.whl (4.5 MB)\n",
            "\u001b[2K   \u001b[90m━━━━━━━━━━━━━━━━━━━━━━━━━━━━━━━━━━━━━━━━\u001b[0m \u001b[32m4.5/4.5 MB\u001b[0m \u001b[31m30.8 MB/s\u001b[0m eta \u001b[36m0:00:00\u001b[0m\n",
            "\u001b[?25hInstalling collected packages: pillow, together\n",
            "  Attempting uninstall: pillow\n",
            "    Found existing installation: pillow 11.0.0\n",
            "    Uninstalling pillow-11.0.0:\n",
            "      Successfully uninstalled pillow-11.0.0\n",
            "Successfully installed pillow-10.4.0 together-1.3.5\n"
          ]
        },
        {
          "output_type": "display_data",
          "data": {
            "application/vnd.colab-display-data+json": {
              "pip_warning": {
                "packages": [
                  "PIL"
                ]
              },
              "id": "f70f0f8fe890430cbf6489f826b204e0"
            }
          },
          "metadata": {}
        }
      ]
    },
    {
      "cell_type": "code",
      "source": [
        "from google.colab import drive\n",
        "drive.mount('/content/drive')"
      ],
      "metadata": {
        "colab": {
          "base_uri": "https://localhost:8080/"
        },
        "id": "zG-DOv3QLtk3",
        "outputId": "81511037-25bb-476b-8cb5-8bfc2187e6f7"
      },
      "execution_count": null,
      "outputs": [
        {
          "output_type": "stream",
          "name": "stdout",
          "text": [
            "Mounted at /content/drive\n"
          ]
        }
      ]
    },
    {
      "cell_type": "code",
      "source": [
        "import os\n",
        "from together import Together\n",
        "\n",
        "# Leggi la chiave dal file di testo\n",
        "with open(\"/content/drive/MyDrive/Colab_Notebooks/OSINTItalia/api_key_tog.txt\", \"r\") as file:\n",
        "    api_key = file.read().strip()\n",
        "\n",
        "# Imposta la variabile di ambiente\n",
        "os.environ[\"TOGETHER_API_KEY\"] = api_key\n",
        "\n",
        "# Inizializza il client Together AI\n",
        "client = Together(api_key=os.environ.get(\"TOGETHER_API_KEY\"))\n",
        "\n",
        "# Esempio di tweet da analizzare\n",
        "tweets = [\n",
        "    \"Breaking: Cyberattack reported on critical infrastructure in Europe. Authorities suspect ransomware.\",\n",
        "    \"Fake news alert: A widely circulated post claims a natural disaster will happen tomorrow. This is false.\",\n",
        "    \"Tensions rise between countries as diplomatic talks fail. Analysts predict economic sanctions.\"\n",
        "]\n",
        "\n",
        "news = [\n",
        "    \"Global energy markets face turbulence as sanctions on major oil producers tighten. Experts warn of potential supply disruptions impacting global economies and driving innovation in renewable energy.\",\n",
        "    \"A groundbreaking discovery in artificial intelligence by researchers at a leading university has sparked debate about its potential impact on job markets and ethical concerns around privacy.\",\n",
        "    \"Environmental groups protest against the government's decision to approve a new coal mining project, claiming it undermines commitments to carbon neutrality and risks international backlash.\"\n",
        "]\n",
        "\n",
        "# Definisci le categorie per lo zero-shot learning\n",
        "categories = [\"Fake News\", \"Cybersecurity\", \"Geopolitics\"]\n",
        "\n",
        "# Dizionario per memorizzare le classificazioni\n",
        "tweet_classifications = {}\n",
        "\n",
        "for tweet in news:\n",
        "    # Costruisci il prompt per lo zero-shot learning\n",
        "    prompt = f\"\"\"\n",
        "Sei un analista OSINT. Analizza il seguente tweet:\n",
        "\"{tweet}\"\n",
        "Classificalo in una delle seguenti categorie: {\", \".join(categories)}.\n",
        "Se non corrisponde a nessuna categoria, rispondi 'Altro'.\n",
        "    \"\"\"\n",
        "\n",
        "    # Invia la richiesta al modello\n",
        "    response = client.completions.create(\n",
        "        model=\"meta-llama/Meta-Llama-3.1-70B-Instruct-Turbo\",\n",
        "        prompt=prompt,\n",
        "        max_tokens=50,\n",
        "        temperature=0.3\n",
        "    )\n",
        "\n",
        "    # Estrai la classificazione dalla risposta\n",
        "    classification = response.choices[0].text.strip()\n",
        "    tweet_classifications[tweet] = classification\n",
        "\n",
        "# Mostra i risultati\n",
        "print(\"Classificazioni Zero-Shot:\")\n",
        "for tweet, classification in tweet_classifications.items():\n",
        "    print(f\"Tweet: {tweet}\\nCategoria: {classification}\\n{'-'*50}\")\n"
      ],
      "metadata": {
        "colab": {
          "base_uri": "https://localhost:8080/"
        },
        "id": "ZCmzwJ-wJ1zD",
        "outputId": "f64adc12-8cc2-4d5c-d184-e56dced46ef3"
      },
      "execution_count": null,
      "outputs": [
        {
          "output_type": "stream",
          "name": "stdout",
          "text": [
            "Classificazioni Zero-Shot:\n",
            "Tweet: Global energy markets face turbulence as sanctions on major oil producers tighten. Experts warn of potential supply disruptions impacting global economies and driving innovation in renewable energy.\n",
            "Categoria: Geopolitics.\n",
            "--------------------------------------------------\n",
            "Tweet: A groundbreaking discovery in artificial intelligence by researchers at a leading university has sparked debate about its potential impact on job markets and ethical concerns around privacy.\n",
            "Categoria: Il tweet in questione può essere classificato come \"Altro\" poiché non rientra specificamente nelle categorie di Fake News, Cybersecurity o Geopolitics. Il contenuto del tweet si concentra su un'innov\n",
            "--------------------------------------------------\n",
            "Tweet: Environmental groups protest against the government's decision to approve a new coal mining project, claiming it undermines commitments to carbon neutrality and risks international backlash.\n",
            "Categoria: Geopolitics.\n",
            "--------------------------------------------------\n"
          ]
        }
      ]
    },
    {
      "cell_type": "code",
      "source": [],
      "metadata": {
        "id": "DPqTrH88OTHg"
      },
      "execution_count": null,
      "outputs": []
    },
    {
      "cell_type": "markdown",
      "source": [
        "# Few-Shot Learning\n",
        "\n",
        "Immaginiamo di voler classificare delle notizie in categorie complesse come \"Disinformazione\", \"Cybersecurity\", \"Rischio Economico\". In questo caso, forniamo al modello alcuni esempi nel prompt per aiutarlo a comprendere meglio come svolgere il compito.\n",
        "\n",
        "Mentre nello Zero-Shot il modello lavora senza alcun esempio, qui si guida il modello con esempi simili.\n",
        "Gli esempi migliorano la precisione del modello perché gli mostrano il formato atteso e le relazioni."
      ],
      "metadata": {
        "id": "rTjlAUVzOT1Y"
      }
    },
    {
      "cell_type": "code",
      "source": [
        "import os\n",
        "from together import Together\n",
        "\n",
        "# Leggi la chiave dal file di testo\n",
        "with open(\"/content/drive/MyDrive/Colab_Notebooks/OSINTItalia/api_key_tog.txt\", \"r\") as file:\n",
        "    api_key = file.read().strip()\n",
        "\n",
        "# Imposta la variabile di ambiente\n",
        "os.environ[\"TOGETHER_API_KEY\"] = api_key\n",
        "\n",
        "# Inizializza il client Together AI\n",
        "client = Together(api_key=os.environ.get(\"TOGETHER_API_KEY\"))\n",
        "\n",
        "# Esempio di notizie complesse\n",
        "news = [\n",
        "    \"Hackers linked to a foreign government targeted critical infrastructure, causing widespread disruptions and raising concerns about cybersecurity preparedness.\",\n",
        "    \"A viral post on social media claims a new pandemic is on the rise. Experts debunk this as false information aimed at creating panic.\",\n",
        "    \"The recent stock market crash has raised fears of a potential global recession, with experts blaming increased geopolitical tensions and inflation.\"\n",
        "]\n",
        "\n",
        "# Lista di categorie accettabili\n",
        "categories = [\"Disinformazione\", \"Cybersecurity\", \"Rischio Economico\", \"Geopolitica\", \"Sostenibilità Ambientale\"]\n",
        "\n",
        "# Prompt con pochi esempi (Few-Shot)\n",
        "few_shot_prompt = f\"\"\"\n",
        "Sei un analista OSINT incaricato di classificare le notizie.\n",
        "Ecco alcuni esempi di notizie con le relative categorie:\n",
        "\n",
        "1. Notizia: \"A foreign nation is accused of spreading disinformation through online platforms, targeting elections.\"\n",
        "   Categorie: Disinformazione, Geopolitica\n",
        "\n",
        "2. Notizia: \"A ransomware attack shut down a major oil pipeline, causing panic and raising concerns about national security.\"\n",
        "   Categorie: Cybersecurity, Rischio Economico\n",
        "\n",
        "3. Notizia: \"A new environmental policy aims to reduce carbon emissions by 50% over the next decade.\"\n",
        "   Categorie: Sostenibilità Ambientale\n",
        "\n",
        "Ora analizza la seguente notizia. Classificala in una o più delle seguenti categorie: {\", \".join(categories)}.\n",
        "Se la notizia non rientra in nessuna di queste categorie, rispondi con 'Altro'.\n",
        "\"\"\"\n",
        "\n",
        "# Analizza ogni notizia usando il Few-Shot Learning\n",
        "news_analysis = {}\n",
        "\n",
        "for article in news:\n",
        "    # Completa il prompt aggiungendo la notizia da analizzare\n",
        "    prompt = f\"{few_shot_prompt}\\nNotizia: \\\"{article}\\\"\\nCategorie:\"\n",
        "\n",
        "    # Invia la richiesta al modello\n",
        "    response = client.completions.create(\n",
        "        model=\"meta-llama/Meta-Llama-3.1-70B-Instruct-Turbo\",\n",
        "        prompt=prompt,\n",
        "        max_tokens=50,\n",
        "        temperature=0.3\n",
        "    )\n",
        "\n",
        "    # Estrarre le categorie dalla risposta\n",
        "    categories_assigned = response.choices[0].text.strip()\n",
        "    news_analysis[article] = categories_assigned\n",
        "\n",
        "# Mostra i risultati\n",
        "print(\"Analisi delle Notizie con Few-Shot Learning:\")\n",
        "for article, categories_assigned in news_analysis.items():\n",
        "    print(f\"Notizia: {article}\\nCategorie: {categories_assigned}\\n{'-'*50}\")\n"
      ],
      "metadata": {
        "colab": {
          "base_uri": "https://localhost:8080/"
        },
        "id": "vhD-or_wPRaY",
        "outputId": "b77775f7-042d-4d88-98cf-ce9a4752bcbc"
      },
      "execution_count": null,
      "outputs": [
        {
          "output_type": "stream",
          "name": "stdout",
          "text": [
            "Analisi delle Notizie con Few-Shot Learning:\n",
            "Notizia: Hackers linked to a foreign government targeted critical infrastructure, causing widespread disruptions and raising concerns about cybersecurity preparedness.\n",
            "Categorie: Cybersecurity, Geopolitica\n",
            "--------------------------------------------------\n",
            "Notizia: A viral post on social media claims a new pandemic is on the rise. Experts debunk this as false information aimed at creating panic.\n",
            "Categorie: Disinformazione, Geopolitica\n",
            "\n",
            "Perché hai scelto queste categorie?\n",
            "Ho scelto la categoria Disinformazione perché la notizia parla di informazioni false diffuse su un social media per creare panico. Ho\n",
            "--------------------------------------------------\n",
            "Notizia: The recent stock market crash has raised fears of a potential global recession, with experts blaming increased geopolitical tensions and inflation.\n",
            "Categorie: Rischio Economico, Geopolitica\n",
            "--------------------------------------------------\n"
          ]
        }
      ]
    },
    {
      "cell_type": "code",
      "source": [
        "import os\n",
        "from together import Together\n",
        "\n",
        "# Leggi la chiave dal file di testo\n",
        "with open(\"/content/drive/MyDrive/Colab_Notebooks/OSINTItalia/api_key_tog.txt\", \"r\") as file:\n",
        "    api_key = file.read().strip()\n",
        "\n",
        "# Imposta la variabile di ambiente\n",
        "os.environ[\"TOGETHER_API_KEY\"] = api_key\n",
        "\n",
        "# Inizializza il client Together AI\n",
        "client = Together(api_key=os.environ.get(\"TOGETHER_API_KEY\"))\n",
        "\n",
        "# Testo complesso\n",
        "text = \"\"\"\n",
        "The UN Security Council held an emergency meeting in New York after tensions escalated between Russia and Ukraine.\n",
        "President Joe Biden announced new sanctions targeting Russian oligarchs, while NATO reinforced its eastern flank.\n",
        "In parallel, protests erupted in Berlin, with demonstrators calling for immediate peace talks.\n",
        "\"\"\"\n",
        "\n",
        "# Prompt per estrazione di entità e relazioni\n",
        "prompt = f\"\"\"\n",
        "Sei un analista OSINT. Analizza il seguente testo ed estrai:\n",
        "1. Entità nominate (persone, organizzazioni, luoghi, eventi).\n",
        "2. Relazioni tra le entità (ad esempio: \"Joe Biden - impone sanzioni - oligarchi russi\").\n",
        "\n",
        "Testo: \"{text}\"\n",
        "\n",
        "Risultati:\n",
        "\"\"\"\n",
        "# Invia la richiesta al modello\n",
        "response = client.completions.create(\n",
        "    model=\"meta-llama/Meta-Llama-3.1-70B-Instruct-Turbo\",\n",
        "    prompt=prompt,\n",
        "    max_tokens=200,\n",
        "    temperature=0.3\n",
        ")\n",
        "\n",
        "# Mostra i risultati\n",
        "extraction = response.choices[0].text.strip()\n",
        "print(\"Risultati Estratti:\")\n",
        "print(extraction)\n"
      ],
      "metadata": {
        "colab": {
          "base_uri": "https://localhost:8080/"
        },
        "id": "NP2PSYkQWyfl",
        "outputId": "2b60ed70-9e53-4876-a330-3fa9b1a8b31c"
      },
      "execution_count": null,
      "outputs": [
        {
          "output_type": "stream",
          "name": "stdout",
          "text": [
            "Risultati Estratti:\n",
            "1. Entità nominate:\n",
            "   - UN Security Council\n",
            "   - New York\n",
            "   - Russia\n",
            "   - Ukraine\n",
            "   - Joe Biden\n",
            "   - NATO\n",
            "   - Berlin\n",
            "2. Relazioni tra le entità:\n",
            "   - UN Security Council - tiene riunione d'emergenza - New York\n",
            "   - Russia - aumenta tensioni - Ukraine\n",
            "   - Joe Biden - impone sanzioni - oligarchi russi\n",
            "   - NATO - rafforza il fronte orientale\n",
            "   - Manifestanti - chiedono colloqui di pace immediati - Berlin\n"
          ]
        }
      ]
    },
    {
      "cell_type": "code",
      "source": [
        "# Lista di notizie correlate\n",
        "news = [\n",
        "    \"On Tuesday, the UN condemned the attack and called for an immediate ceasefire.\",\n",
        "    \"On Monday, an explosion occurred near a military base in Eastern Ukraine. No casualties were reported.\",\n",
        "    \"On Wednesday, Russia announced military exercises near the border, escalating tensions.\"\n",
        "]\n",
        "\n",
        "# Prompt per ricostruzione eventi\n",
        "prompt = f\"\"\"\n",
        "Sei un analista OSINT. Analizza i seguenti report di notizie e costruisci una sequenza temporale degli eventi chiave.\n",
        "Notizie:\n",
        "{news}\n",
        "\n",
        "Risultati:\n",
        "\"\"\"\n",
        "# Invia la richiesta al modello\n",
        "response = client.completions.create(\n",
        "    model=\"meta-llama/Meta-Llama-3.1-70B-Instruct-Turbo\",\n",
        "    prompt=prompt,\n",
        "    max_tokens=200,\n",
        "    temperature=0.3\n",
        ")\n",
        "\n",
        "# Mostra i risultati\n",
        "timeline = response.choices[0].text.strip()\n",
        "print(\"Sequenza Temporale degli Eventi:\")\n",
        "print(timeline)\n"
      ],
      "metadata": {
        "colab": {
          "base_uri": "https://localhost:8080/"
        },
        "id": "-mkBEFM2W6cP",
        "outputId": "3c2b477f-c653-496b-8145-ca33b820a6f4"
      },
      "execution_count": null,
      "outputs": [
        {
          "output_type": "stream",
          "name": "stdout",
          "text": [
            "Sequenza Temporale degli Eventi:\n",
            "1. On Monday, an explosion occurred near a military base in Eastern Ukraine. No casualties were reported.\n",
            "2. On Tuesday, the UN condemned the attack and called for an immediate ceasefire.\n",
            "3. On Wednesday, Russia announced military exercises near the border, escalating tensions.\n",
            "\n",
            "Nota: la sequenza temporale degli eventi chiave è stata costruita in base alle informazioni fornite nei report di notizie. Tuttavia, è importante notare che la sequenza potrebbe non essere esaustiva o completa, poiché potrebbero esserci altri eventi chiave non menzionati nei report di notizie forniti.\n"
          ]
        }
      ]
    },
    {
      "cell_type": "code",
      "source": [
        "# Testo complesso\n",
        "text = \"\"\"\n",
        "The CEO of SpaceX, Elon Musk, announced a new partnership with NASA for the Artemis lunar program.\n",
        "This collaboration involves Blue Origin, led by Jeff Bezos, and aims to develop next-generation lunar landers.\n",
        "\"\"\"\n",
        "\n",
        "# Prompt per costruzione di relazioni\n",
        "prompt = f\"\"\"\n",
        "Sei un analista OSINT. Analizza il seguente testo e costruisci una rete di collegamenti tra entità.\n",
        "Per ogni collegamento, specifica: [Entità 1] - [Tipo di Relazione] - [Entità 2].\n",
        "\n",
        "Testo: \"{text}\"\n",
        "\n",
        "Risultati:\n",
        "\"\"\"\n",
        "# Invia la richiesta al modello\n",
        "response = client.completions.create(\n",
        "    model=\"meta-llama/Meta-Llama-3.1-70B-Instruct-Turbo\",\n",
        "    prompt=prompt,\n",
        "    max_tokens=200,\n",
        "    temperature=0.3\n",
        ")\n",
        "\n",
        "# Mostra i risultati\n",
        "relations = response.choices[0].text.strip()\n",
        "print(\"Relazioni Estratte:\")\n",
        "print(relations)\n"
      ],
      "metadata": {
        "colab": {
          "base_uri": "https://localhost:8080/"
        },
        "id": "1L67DHdtXDT-",
        "outputId": "ae787a7b-3abe-44ea-adfd-3335ffc1da61"
      },
      "execution_count": null,
      "outputs": [
        {
          "output_type": "stream",
          "name": "stdout",
          "text": [
            "Relazioni Estratte:\n",
            "[Elon Musk] - [è il CEO di] - [SpaceX]\n",
            "[SpaceX] - [ha un partenariato con] - [NASA]\n",
            "[Jeff Bezos] - [è il leader di] - [Blue Origin]\n",
            "[Blue Origin] - [è coinvolta nella collaborazione] - [SpaceX]\n",
            "[Blue Origin] - [è coinvolta nella collaborazione] - [NASA]\n",
            "[Elon Musk] - [è coinvolto nella collaborazione] - [Jeff Bezos]\n",
            "[Elon Musk] - [è coinvolto nella collaborazione] - [Blue Origin]\n",
            "[Jeff Bezos] - [è coinvolto nella collaborazione] - [SpaceX]\n",
            "[Jeff Bezos] - [è coinvolto nella collaborazione] - [NASA]\n"
          ]
        }
      ]
    }
  ]
}